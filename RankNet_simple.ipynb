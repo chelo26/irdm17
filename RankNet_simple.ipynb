{
 "cells": [
  {
   "cell_type": "code",
   "execution_count": 36,
   "metadata": {
    "collapsed": false
   },
   "outputs": [
    {
     "name": "stdout",
     "output_type": "stream",
     "text": [
      "Populating the interactive namespace from numpy and matplotlib\n"
     ]
    }
   ],
   "source": [
    "import tensorflow as tf\n",
    "import numpy as np\n",
    "import seaborn\n",
    "import matplotlib.pyplot as plt\n",
    "% pylab inline"
   ]
  },
  {
   "cell_type": "code",
   "execution_count": 37,
   "metadata": {
    "collapsed": false
   },
   "outputs": [
    {
     "data": {
      "text/plain": [
       "<matplotlib.collections.PathCollection at 0x11dd6d090>"
      ]
     },
     "execution_count": 37,
     "metadata": {},
     "output_type": "execute_result"
    },
    {
     "data": {
      "image/png": "[encoded data removed]",
      "text/plain": [
       "<matplotlib.figure.Figure at 0x11dc8ff50>"
      ]
     },
     "metadata": {},
     "output_type": "display_data"
    }
   ],
   "source": [
    "# Define input data\n",
    "X_data = np.arange(100, step=.1)\n",
    "y_data = X_data + 20 * np.sin(X_data/10)\n",
    "# Plot input data\n",
    "plt.scatter(X_data, y_data)"
   ]
  },
  {
   "cell_type": "code",
   "execution_count": 51,
   "metadata": {
    "collapsed": false
   },
   "outputs": [],
   "source": [
    "# Define data size and batch size\n",
    "n_samples = 1000\n",
    "batch_size = 100\n",
    "# Tensorflow is finicky about shapes, so resize\n",
    "X_data = np.reshape(X_data, (n_samples,1))\n",
    "y_data = np.reshape(y_data, (n_samples,1))\n",
    "# Define placeholders for input\n",
    "X = tf.placeholder(tf.float32, shape=(batch_size, 1))\n",
    "y = tf.placeholder(tf.float32, shape=(batch_size, 1)) "
   ]
  },
  {
   "cell_type": "code",
   "execution_count": 52,
   "metadata": {
    "collapsed": false
   },
   "outputs": [],
   "source": [
    "with tf.variable_scope(\"linear-regression\", reuse=True):\n",
    "    W = tf.get_variable(\"weights\", (1, 1),\n",
    "    initializer=tf.random_normal_initializer())\n",
    "    b = tf.get_variable(\"bias\", (1,),\n",
    "    initializer=tf.constant_initializer(0.0))\n",
    "    y_pred = tf.matmul(X, W) + b\n",
    "    loss = tf.reduce_sum((y - y_pred)**2/n_samples)"
   ]
  },
  {
   "cell_type": "code",
   "execution_count": 59,
   "metadata": {
    "collapsed": true
   },
   "outputs": [],
   "source": [
    "opt = tf.train.AdamOptimizer()\n",
    "opt_operation = opt.minimize(loss)"
   ]
  },
  {
   "cell_type": "code",
   "execution_count": 70,
   "metadata": {
    "collapsed": false
   },
   "outputs": [
    {
     "name": "stdout",
     "output_type": "stream",
     "text": [
      "WARNING:tensorflow:From <ipython-input-70-1e301fc932f8>:4 in <module>.: initialize_all_variables (from tensorflow.python.ops.variables) is deprecated and will be removed after 2017-03-02.\n",
      "Instructions for updating:\n",
      "Use `tf.global_variables_initializer` instead.\n"
     ]
    }
   ],
   "source": [
    "opt_operation = tf.train.AdamOptimizer().minimize(loss)\n",
    "with tf.Session() as sess:\n",
    "    # Initialize Variables in graph\n",
    "    sess.run(tf.initialize_all_variables())\n",
    "    # Gradient descent loop for 500 steps\n",
    "    for _ in range(500):\n",
    "        # Select random minibatch\n",
    "        indices = np.random.choice(n_samples, batch_size)\n",
    "        X_batch, y_batch = X_data[indices], y_data[indices]\n",
    "        # Do gradient descent step\n",
    "        _, loss_val = sess.run([opt_operation, loss], feed_dict={X: X_batch, y: y_batch})"
   ]
  },
  {
   "cell_type": "markdown",
   "metadata": {
    "collapsed": true
   },
   "source": [
    "### RANK NET"
   ]
  },
  {
   "cell_type": "code",
   "execution_count": 233,
   "metadata": {
    "collapsed": true
   },
   "outputs": [],
   "source": [
    "#### -------------> Import data:\n",
    "\n",
    "def readDataset(path):\n",
    "    '''\n",
    "    Dataset - LETOR 4.0\n",
    "    Dataset format: svmlight / libsvm format\n",
    "    <label> <feature-id>:<feature-value>... #docid = <feature-value> inc = <feature-value> prob = <feature-value>\n",
    "    We have a total of 46 features\n",
    "    '''\n",
    "\n",
    "    X_train = [] #<feature-value>[46]\n",
    "    y_train = [] #<label>\n",
    "    Query = []   #<query-id><document-id><inc><prob>\n",
    "\n",
    "    print('Reading training data from file...')\n",
    "\n",
    "    with open(path, 'r') as file:\n",
    "        for line in file:\n",
    "            split = line.split()\n",
    "            y_train.append(int(split[0]))\n",
    "            X_train.append(extractFeatures(split))\n",
    "            Query.append(extractQueryData(split))\n",
    "    print('Read %d lines from file...' %(len(X_train)))\n",
    "    return (X_train, y_train, Query)\n",
    "\n",
    "def extractFeatures(split):\n",
    "    '''\n",
    "    Extract the query to document features used\n",
    "    as input to the neural network\n",
    "    '''\n",
    "    features = []\n",
    "    for i in xrange(2, 138):\n",
    "        features.append(float(split[i].split(':')[1]))\n",
    "    return features\n",
    "\n",
    "def extractQueryData(split):\n",
    "    '''\n",
    "    Extract the query features from a dataset line\n",
    "    Format:\n",
    "    <query-id><document-id><inc><prob>\n",
    "    '''\n",
    "    queryFeatures = [split[1].split(':')[1]]\n",
    "\n",
    "    return queryFeatures\n",
    "\n",
    "def extractPairsOfRatedSites(y_train, Query):\n",
    "    '''\n",
    "    For each queryid, extract all pairs of documents\n",
    "    with different relevance judgement and save them in\n",
    "    a list with the most relevant in position 0\n",
    "    '''\n",
    "    pairs = []\n",
    "    for i in xrange(0, len(Query)):\n",
    "        for j in xrange(i+1, len(Query)):\n",
    "            #Only look at queries with the same id\n",
    "            if(Query[i] != Query[j]):\n",
    "                break\n",
    "            #Document pairs found with different rating\n",
    "            if(Query[i] == Query[j] and y_train[i] != y_train[j]):\n",
    "                #Sort by saving the largest index in position 0\n",
    "                if(y_train[i] > y_train[j]):\n",
    "                    pairs.append([i, j])\n",
    "                else:\n",
    "                    pairs.append([j, i])\n",
    "    print('Found %d document pairs' %(len(pairs)))\n",
    "    return pairs\n",
    "\n",
    "def separate_training(X,pairs):\n",
    "    data1=[]\n",
    "    data2=[]\n",
    "    for i in pairs:\n",
    "        data1.append(X[i[0]])\n",
    "        data2.append(X[i[0]])\n",
    "    return np.array(data1),np.array(data2)\n",
    "\n",
    "\n",
    "\n"
   ]
  },
  {
   "cell_type": "code",
   "execution_count": 234,
   "metadata": {
    "collapsed": false
   },
   "outputs": [
    {
     "name": "stdout",
     "output_type": "stream",
     "text": [
      "Reading training data from file...\n",
      "Read 723412 lines from file...\n",
      "Found 11379 document pairs\n"
     ]
    }
   ],
   "source": [
    "#Read training data\n",
    "X_train, y_train, Query = readDataset('./MSLR-WEB10K/Fold1/train.txt')\n",
    "\n",
    "len_train=500\n",
    "X_train1,y_train1=X_train[0:len_train],y_train[0:len_train]\n",
    "Query1=Query[0:len_train]\n",
    "# Extract document pairs\n",
    "pairs1 = extractPairsOfRatedSites(y_train1, Query1)\n",
    "X_array=np.array(X_train)\n",
    "data1,data2=separate_training(X_array,pairs1)"
   ]
  },
  {
   "cell_type": "code",
   "execution_count": 235,
   "metadata": {
    "collapsed": true
   },
   "outputs": [],
   "source": [
    "nDim=data1.shape[1]\n",
    "N=data1.shape[0]\n",
    "first_layer=10\n",
    "output_layer=1\n",
    "A = tf.placeholder(tf.float32, [None, nDim])\n",
    "B = tf.placeholder(tf.float32, [None, nDim])"
   ]
  },
  {
   "cell_type": "code",
   "execution_count": 236,
   "metadata": {
    "collapsed": false
   },
   "outputs": [],
   "source": [
    "P_AB = tf.placeholder(tf.float32, [None, 1])\n",
    "P_true = tf.placeholder(tf.float32, [None, 1])"
   ]
  },
  {
   "cell_type": "code",
   "execution_count": 237,
   "metadata": {
    "collapsed": false
   },
   "outputs": [],
   "source": [
    "weights1 = tf.Variable(tf.zeros([nDim, first_layer]))\n",
    "biases1 = tf.Variable(tf.zeros([first_layer]))"
   ]
  },
  {
   "cell_type": "code",
   "execution_count": 238,
   "metadata": {
    "collapsed": false
   },
   "outputs": [],
   "source": [
    "hiddenA = tf.matmul(A, weights1) + biases1\n",
    "hiddenB = tf.matmul(B, weights1) + biases1"
   ]
  },
  {
   "cell_type": "code",
   "execution_count": 239,
   "metadata": {
    "collapsed": true
   },
   "outputs": [],
   "source": [
    "act_hiddenA = tf.nn.sigmoid(hiddenA)\n",
    "act_hiddenB = tf.nn.sigmoid(hiddenB)"
   ]
  },
  {
   "cell_type": "code",
   "execution_count": 240,
   "metadata": {
    "collapsed": false
   },
   "outputs": [],
   "source": [
    "weights2 = tf.Variable(tf.zeros([first_layer,output_layer]))\n",
    "biases2 = tf.Variable(tf.zeros([output_layer]))"
   ]
  },
  {
   "cell_type": "code",
   "execution_count": 241,
   "metadata": {
    "collapsed": false
   },
   "outputs": [],
   "source": [
    "outputA = tf.matmul(act_hiddenA, weights2) + biases2\n",
    "outputB = tf.matmul(act_hiddenB, weights2) + biases2"
   ]
  },
  {
   "cell_type": "code",
   "execution_count": 242,
   "metadata": {
    "collapsed": false
   },
   "outputs": [],
   "source": [
    "Oi = tf.nn.sigmoid(outputA)\n",
    "Oj = tf.nn.sigmoid(outputB)\n",
    "Oij=Oi-Oj"
   ]
  },
  {
   "cell_type": "code",
   "execution_count": 243,
   "metadata": {
    "collapsed": false
   },
   "outputs": [],
   "source": [
    "Pij=tf.exp(Oij)/(1+tf.exp(Oij))"
   ]
  },
  {
   "cell_type": "code",
   "execution_count": 244,
   "metadata": {
    "collapsed": true
   },
   "outputs": [],
   "source": [
    "cross_entropy = tf.nn.softmax_cross_entropy_with_logits(logits=Pij,\n",
    "                                                        labels=P_true)"
   ]
  },
  {
   "cell_type": "code",
   "execution_count": 245,
   "metadata": {
    "collapsed": true
   },
   "outputs": [],
   "source": [
    "cost = tf.reduce_mean(cross_entropy)"
   ]
  },
  {
   "cell_type": "code",
   "execution_count": 246,
   "metadata": {
    "collapsed": true
   },
   "outputs": [],
   "source": [
    "optimizer = tf.train.GradientDescentOptimizer(learning_rate=0.5).minimize(cost)"
   ]
  },
  {
   "cell_type": "code",
   "execution_count": 247,
   "metadata": {
    "collapsed": true
   },
   "outputs": [],
   "source": [
    "session = tf.Session()"
   ]
  },
  {
   "cell_type": "code",
   "execution_count": 248,
   "metadata": {
    "collapsed": true
   },
   "outputs": [],
   "source": [
    "session.run(tf.global_variables_initializer())"
   ]
  },
  {
   "cell_type": "code",
   "execution_count": 249,
   "metadata": {
    "collapsed": true
   },
   "outputs": [],
   "source": [
    "batch_size = 100"
   ]
  },
  {
   "cell_type": "code",
   "execution_count": 250,
   "metadata": {
    "collapsed": false
   },
   "outputs": [],
   "source": [
    "target=np.ones([data1.shape[0],1])"
   ]
  },
  {
   "cell_type": "code",
   "execution_count": 253,
   "metadata": {
    "collapsed": false
   },
   "outputs": [],
   "source": [
    "def optimize(num_iterations):\n",
    "    for i in range(num_iterations):\n",
    "        # Get a batch of training examples.\n",
    "        # x_batch now holds a batch of images and\n",
    "        # y_true_batch are the true labels for those images.\n",
    "#        A_batch, y_true_batch = data.train.next_batch(batch_size)\n",
    "        indices = np.random.choice(data1.shape[0], 100)\n",
    "        A_batch, B_batch, target_batch = data1[indices], data2[indices] , target[indices]\n",
    "        \n",
    "        # Put the batch into a dict with the proper names\n",
    "        # for placeholder variables in the TensorFlow graph.\n",
    "        # Note that the placeholder for y_true_cls is not set\n",
    "        # because it is not used during training.\n",
    "        #\n",
    "        #feed_dict_train = {A: data1,B:data2, P_true: target} --> working\n",
    "        feed_dict_train = {A: A_batch,B:B_batch, P_true: target_batch} \n",
    "        # Run the optimizer using this batch of training data.\n",
    "        # TensorFlow assigns the variables in feed_dict_train\n",
    "        # to the placeholder variables and then runs the optimizer.\n",
    "        session.run(optimizer, feed_dict=feed_dict_train)"
   ]
  },
  {
   "cell_type": "code",
   "execution_count": 254,
   "metadata": {
    "collapsed": false
   },
   "outputs": [],
   "source": [
    "optimize(num_iterations=10)"
   ]
  },
  {
   "cell_type": "code",
   "execution_count": null,
   "metadata": {
    "collapsed": true
   },
   "outputs": [],
   "source": [
    "def print_accuracy():\n",
    "    # Use TensorFlow to compute the accuracy.\n",
    "    acc = session.run(accuracy, feed_dict=feed_dict_test)\n",
    "    \n",
    "    # Print the accuracy.\n",
    "    print(\"Accuracy on test-set: {0:.1%}\".format(acc))"
   ]
  }
 ],
 "metadata": {
  "kernelspec": {
   "display_name": "Python 2",
   "language": "python",
   "name": "python2"
  },
  "language_info": {
   "codemirror_mode": {
    "name": "ipython",
    "version": 2
   },
   "file_extension": ".py",
   "mimetype": "text/x-python",
   "name": "python",
   "nbconvert_exporter": "python",
   "pygments_lexer": "ipython2",
   "version": "2.7.13"
  }
 },
 "nbformat": 4,
 "nbformat_minor": 0
}
